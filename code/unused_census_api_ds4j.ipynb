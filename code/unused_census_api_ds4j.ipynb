{
 "cells": [
  {
   "cell_type": "markdown",
   "metadata": {},
   "source": [
    "# Download 1-year ACS data from 2023 "
   ]
  },
  {
   "cell_type": "code",
   "execution_count": 24,
   "metadata": {},
   "outputs": [],
   "source": [
    "from census import Census\n",
    "import pandas as pd\n",
    "from us import states\n",
    "import requests"
   ]
  },
  {
   "cell_type": "code",
   "execution_count": 25,
   "metadata": {},
   "outputs": [],
   "source": [
    "api_key = \"8b5837f549e20d8305aed20693c65c7205b50b5a\"\n",
    "c = Census(api_key)"
   ]
  },
  {
   "cell_type": "markdown",
   "metadata": {},
   "source": [
    "# Get variables first "
   ]
  },
  {
   "cell_type": "code",
   "execution_count": 42,
   "metadata": {},
   "outputs": [
    {
     "name": "stdout",
     "output_type": "stream",
     "text": [
      "Index(['label', 'concept', 'predicateType', 'group', 'limit', 'predicateOnly',\n",
      "       'hasGeoCollectionSupport', 'attributes', 'required'],\n",
      "      dtype='object')\n"
     ]
    },
    {
     "data": {
      "text/html": [
       "<div>\n",
       "<style scoped>\n",
       "    .dataframe tbody tr th:only-of-type {\n",
       "        vertical-align: middle;\n",
       "    }\n",
       "\n",
       "    .dataframe tbody tr th {\n",
       "        vertical-align: top;\n",
       "    }\n",
       "\n",
       "    .dataframe thead th {\n",
       "        text-align: right;\n",
       "    }\n",
       "</style>\n",
       "<table border=\"1\" class=\"dataframe\">\n",
       "  <thead>\n",
       "    <tr style=\"text-align: right;\">\n",
       "      <th></th>\n",
       "      <th>label</th>\n",
       "      <th>concept</th>\n",
       "      <th>predicateType</th>\n",
       "      <th>group</th>\n",
       "      <th>limit</th>\n",
       "      <th>predicateOnly</th>\n",
       "      <th>hasGeoCollectionSupport</th>\n",
       "      <th>attributes</th>\n",
       "      <th>required</th>\n",
       "    </tr>\n",
       "  </thead>\n",
       "  <tbody>\n",
       "    <tr>\n",
       "      <th>for</th>\n",
       "      <td>Census API FIPS 'for' clause</td>\n",
       "      <td>Census API Geography Specification</td>\n",
       "      <td>fips-for</td>\n",
       "      <td>N/A</td>\n",
       "      <td>0</td>\n",
       "      <td>True</td>\n",
       "      <td>NaN</td>\n",
       "      <td>NaN</td>\n",
       "      <td>NaN</td>\n",
       "    </tr>\n",
       "    <tr>\n",
       "      <th>in</th>\n",
       "      <td>Census API FIPS 'in' clause</td>\n",
       "      <td>Census API Geography Specification</td>\n",
       "      <td>fips-in</td>\n",
       "      <td>N/A</td>\n",
       "      <td>0</td>\n",
       "      <td>True</td>\n",
       "      <td>NaN</td>\n",
       "      <td>NaN</td>\n",
       "      <td>NaN</td>\n",
       "    </tr>\n",
       "    <tr>\n",
       "      <th>ucgid</th>\n",
       "      <td>Uniform Census Geography Identifier clause</td>\n",
       "      <td>Census API Geography Specification</td>\n",
       "      <td>ucgid</td>\n",
       "      <td>N/A</td>\n",
       "      <td>0</td>\n",
       "      <td>True</td>\n",
       "      <td>True</td>\n",
       "      <td>NaN</td>\n",
       "      <td>NaN</td>\n",
       "    </tr>\n",
       "    <tr>\n",
       "      <th>B24022_060E</th>\n",
       "      <td>Estimate!!Total:!!Female:!!Service occupations...</td>\n",
       "      <td>Sex by Occupation and Median Earnings in the P...</td>\n",
       "      <td>int</td>\n",
       "      <td>B24022</td>\n",
       "      <td>0</td>\n",
       "      <td>NaN</td>\n",
       "      <td>NaN</td>\n",
       "      <td>B24022_060EA,B24022_060M,B24022_060MA</td>\n",
       "      <td>NaN</td>\n",
       "    </tr>\n",
       "    <tr>\n",
       "      <th>B19001B_014E</th>\n",
       "      <td>Estimate!!Total:!!$100,000 to $124,999</td>\n",
       "      <td>Household Income in the Past 12 Months (in 202...</td>\n",
       "      <td>int</td>\n",
       "      <td>B19001B</td>\n",
       "      <td>0</td>\n",
       "      <td>NaN</td>\n",
       "      <td>NaN</td>\n",
       "      <td>B19001B_014EA,B19001B_014M,B19001B_014MA</td>\n",
       "      <td>NaN</td>\n",
       "    </tr>\n",
       "  </tbody>\n",
       "</table>\n",
       "</div>"
      ],
      "text/plain": [
       "                                                          label  \\\n",
       "for                                Census API FIPS 'for' clause   \n",
       "in                                  Census API FIPS 'in' clause   \n",
       "ucgid                Uniform Census Geography Identifier clause   \n",
       "B24022_060E   Estimate!!Total:!!Female:!!Service occupations...   \n",
       "B19001B_014E             Estimate!!Total:!!$100,000 to $124,999   \n",
       "\n",
       "                                                        concept predicateType  \\\n",
       "for                          Census API Geography Specification      fips-for   \n",
       "in                           Census API Geography Specification       fips-in   \n",
       "ucgid                        Census API Geography Specification         ucgid   \n",
       "B24022_060E   Sex by Occupation and Median Earnings in the P...           int   \n",
       "B19001B_014E  Household Income in the Past 12 Months (in 202...           int   \n",
       "\n",
       "                group limit predicateOnly hasGeoCollectionSupport  \\\n",
       "for               N/A     0          True                     NaN   \n",
       "in                N/A     0          True                     NaN   \n",
       "ucgid             N/A     0          True                    True   \n",
       "B24022_060E    B24022     0           NaN                     NaN   \n",
       "B19001B_014E  B19001B     0           NaN                     NaN   \n",
       "\n",
       "                                            attributes required  \n",
       "for                                                NaN      NaN  \n",
       "in                                                 NaN      NaN  \n",
       "ucgid                                              NaN      NaN  \n",
       "B24022_060E      B24022_060EA,B24022_060M,B24022_060MA      NaN  \n",
       "B19001B_014E  B19001B_014EA,B19001B_014M,B19001B_014MA      NaN  "
      ]
     },
     "execution_count": 42,
     "metadata": {},
     "output_type": "execute_result"
    }
   ],
   "source": [
    "url = \"https://api.census.gov/data/2022/acs/acs5/variables.json\"\n",
    "\n",
    "# Fetch the variables from the API\n",
    "response = requests.get(url)\n",
    "variables = response.json()\n",
    "\n",
    "# Convert to DataFrame to inspect\n",
    "variables_df = pd.DataFrame(variables['variables']).T\n",
    "print(variables_df.columns)  \n",
    "variables_df.head()"
   ]
  },
  {
   "cell_type": "code",
   "execution_count": 40,
   "metadata": {},
   "outputs": [],
   "source": [
    "variables = {\n",
    "    'totalpop': 'B01003_001E',\n",
    "    'medianage': 'B01002_001E',\n",
    "    'medianincome': 'B19013_001E',\n",
    "    'unemployrate16plus': 'DP03_0009PE',\n",
    "    'povertyratepop': 'DP03_0128PE',\n",
    "    'percenthousesSNAP': 'DP03_0074PE',\n",
    "    'percentpeople25bachelors': 'DP02_0068PE',\n",
    "    'estpeople25plusbachelors': 'DP02_0068E',\n",
    "    'percent25highschoolormore': 'DP02_0067PE',\n",
    "    'percentcivilianwohealthinsur': 'DP03_0099PE',\n",
    "    'totalnumhouseholds': 'DP02_0001E',\n",
    "    'numpeopletravelbyvehicle': 'B08006_002E',\n",
    "    'meantraveltimeforwork': 'DP03_0025E'\n",
    "}"
   ]
  },
  {
   "cell_type": "code",
   "execution_count": null,
   "metadata": {},
   "outputs": [],
   "source": [
    "pop23 = c.acs5.state(fields=list(variables.values()), \n",
    "                     year=2022, \n",
    "                     state_fips=\"*\")  # '*' fetches data for all states\n",
    "\n",
    "pop23_df = pd.DataFrame(pop23)\n",
    "\n",
    "# relabel variables according to their actual values\n",
    "pop23_df = pop23_df.rename(columns=dict(zip(variables.values(), variables.keys())))\n",
    "\n",
    "pop23_df.head()"
   ]
  },
  {
   "cell_type": "code",
   "execution_count": null,
   "metadata": {},
   "outputs": [],
   "source": []
  }
 ],
 "metadata": {
  "kernelspec": {
   "display_name": ".venv",
   "language": "python",
   "name": "python3"
  },
  "language_info": {
   "codemirror_mode": {
    "name": "ipython",
    "version": 3
   },
   "file_extension": ".py",
   "mimetype": "text/x-python",
   "name": "python",
   "nbconvert_exporter": "python",
   "pygments_lexer": "ipython3",
   "version": "3.12.7"
  }
 },
 "nbformat": 4,
 "nbformat_minor": 2
}
